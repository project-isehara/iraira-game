{
 "cells": [
  {
   "cell_type": "code",
   "execution_count": 1,
   "id": "d8995865-2d53-4b88-a1a4-538dfb015ba5",
   "metadata": {},
   "outputs": [],
   "source": [
    "import numpy as np"
   ]
  },
  {
   "cell_type": "code",
   "execution_count": 4,
   "id": "f7d12ff9-a56d-4075-9f70-e9d31b9fa236",
   "metadata": {},
   "outputs": [
    {
     "data": {
      "text/plain": [
       "array([1, 2, 3])"
      ]
     },
     "execution_count": 4,
     "metadata": {},
     "output_type": "execute_result"
    }
   ],
   "source": [
    "np.array([1, 2, 3])"
   ]
  },
  {
   "cell_type": "code",
   "execution_count": 6,
   "id": "49b861f1-8b76-4954-afb6-4bc892c668f2",
   "metadata": {},
   "outputs": [],
   "source": [
    "fs = 192_000  # Hz"
   ]
  },
  {
   "cell_type": "code",
   "execution_count": null,
   "id": "7150ed6e-8660-4bbb-83f4-6ae486bb182c",
   "metadata": {},
   "outputs": [],
   "source": []
  }
 ],
 "metadata": {
  "kernelspec": {
   "display_name": "Python 3 (ipykernel)",
   "language": "python",
   "name": "python3"
  },
  "language_info": {
   "codemirror_mode": {
    "name": "ipython",
    "version": 3
   },
   "file_extension": ".py",
   "mimetype": "text/x-python",
   "name": "python",
   "nbconvert_exporter": "python",
   "pygments_lexer": "ipython3",
   "version": "3.9.0"
  }
 },
 "nbformat": 4,
 "nbformat_minor": 5
}
