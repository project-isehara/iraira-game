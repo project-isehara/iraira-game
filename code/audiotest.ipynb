{
 "cells": [
  {
   "cell_type": "code",
   "execution_count": 2,
   "metadata": {},
   "outputs": [
    {
     "ename": "ModuleNotFoundError",
     "evalue": "No module named 'pyaudio'",
     "output_type": "error",
     "traceback": [
      "\u001b[1;31m---------------------------------------------------------------------------\u001b[0m",
      "\u001b[1;31mModuleNotFoundError\u001b[0m                       Traceback (most recent call last)",
      "\u001b[1;32mC:\\Users\\R00527~1\\AppData\\Local\\Temp/ipykernel_2328/3373403285.py\u001b[0m in \u001b[0;36m<module>\u001b[1;34m\u001b[0m\n\u001b[0;32m      2\u001b[0m \u001b[1;32mimport\u001b[0m \u001b[0mtkinter\u001b[0m \u001b[1;32mas\u001b[0m \u001b[0mtk\u001b[0m\u001b[1;33m\u001b[0m\u001b[1;33m\u001b[0m\u001b[0m\n\u001b[0;32m      3\u001b[0m \u001b[1;32mimport\u001b[0m \u001b[0mnumpy\u001b[0m \u001b[1;32mas\u001b[0m \u001b[0mnp\u001b[0m\u001b[1;33m\u001b[0m\u001b[1;33m\u001b[0m\u001b[0m\n\u001b[1;32m----> 4\u001b[1;33m \u001b[1;32mimport\u001b[0m \u001b[0mpyaudio\u001b[0m\u001b[1;33m\u001b[0m\u001b[1;33m\u001b[0m\u001b[0m\n\u001b[0m\u001b[0;32m      5\u001b[0m \u001b[1;32mimport\u001b[0m \u001b[0mmath\u001b[0m\u001b[1;33m\u001b[0m\u001b[1;33m\u001b[0m\u001b[0m\n\u001b[0;32m      6\u001b[0m \u001b[1;32mimport\u001b[0m \u001b[0mmatplotlib\u001b[0m\u001b[1;33m.\u001b[0m\u001b[0mpyplot\u001b[0m \u001b[1;32mas\u001b[0m \u001b[0mplt\u001b[0m\u001b[1;33m\u001b[0m\u001b[1;33m\u001b[0m\u001b[0m\n",
      "\u001b[1;31mModuleNotFoundError\u001b[0m: No module named 'pyaudio'"
     ]
    }
   ],
   "source": [
    "import sys\n",
    "import tkinter as tk\n",
    "import numpy as np\n",
    "import pyaudio\n",
    "import math\n",
    "import matplotlib.pyplot as plt"
   ]
  },
  {
   "cell_type": "code",
   "execution_count": null,
   "metadata": {},
   "outputs": [],
   "source": [
    "p = pyaudio.PyAudio()\n",
    "fs = 44100\n",
    "volume = 0.5\n",
    "f = 130\n",
    "duration = 5\n",
    "unitNum = 2 #ユニット数\n",
    "period = unitNum/f\n",
    "start = 3/4 #波形を反転させる開始位置(1周期の中で)\n",
    "end = 1 #波形を反転させる終了位置(1周期の中で)\n",
    "unitNum = int(duration*f) #持続時間中に波形が何個入るか\n",
    "t = np.linspace(0,duration,int(fs*duration))\n",
    "tracAudio = np.abs(np.sin(2*math.pi*f*t)).astype(np.float32)\n",
    "stream = p.open(format=pyaudio.paFloat32, channels=1, rate=fs, output=True)\n",
    "        \n",
    "#範囲(start~end)に相当するデータを反転させる\n",
    "for i in range(int(duration/period)):#1周期ごとにstart~endの範囲の波形を反転させる\n",
    "    Indx = np.where((t>start*period+i*period)&(t<end*period+i*period))\n",
    "    tracAudio[Indx] = -tracAudio[Indx]\n",
    "\n",
    "# plt.plot(tracAudio)\n",
    "# plt.show()"
   ]
  },
  {
   "cell_type": "code",
   "execution_count": null,
   "metadata": {},
   "outputs": [],
   "source": []
  }
 ],
 "metadata": {
  "interpreter": {
   "hash": "74b4c3741577ea47510dc5ee6f44843dff23c55f4506e6afb2a15d96ec9e5b25"
  },
  "kernelspec": {
   "display_name": "Python 3.9.5 64-bit ('3.9.5': pyenv)",
   "language": "python",
   "name": "python3"
  },
  "language_info": {
   "codemirror_mode": {
    "name": "ipython",
    "version": 3
   },
   "file_extension": ".py",
   "mimetype": "text/x-python",
   "name": "python",
   "nbconvert_exporter": "python",
   "pygments_lexer": "ipython3",
   "version": "3.9.5"
  },
  "orig_nbformat": 4
 },
 "nbformat": 4,
 "nbformat_minor": 2
}
